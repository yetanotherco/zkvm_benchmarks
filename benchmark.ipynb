{
 "cells": [
  {
   "cell_type": "markdown",
   "id": "60b72f215642a8ad",
   "metadata": {
    "collapsed": false,
    "jupyter": {
     "outputs_hidden": false
    }
   },
   "source": [
    "# Aligned/Lambdaclass zkVMs benchmarks\n",
    "\n",
    "## Benchmarks of VM proving times made by Aligned and Lambdaclass\n",
    "\n",
    "These benchmarks aim to provide a neutral suite for measuring the efficiency of zkVMs. \n",
    "\n",
    "You can run this Python notebook yourself to create new plots or analyze the data.\n",
    "\n",
    "Raw results can be found [here](https://github.com/yetanotherco/zkvm_benchmarks/tree/main/bench_results).\n"
   ]
  },
  {
   "cell_type": "code",
   "execution_count": 66,
   "id": "8fcd2b97299a562",
   "metadata": {
    "ExecuteTime": {
     "end_time": "2025-03-05T21:00:28.308792Z",
     "start_time": "2025-03-05T21:00:27.774992Z"
    },
    "collapsed": false,
    "jupyter": {
     "outputs_hidden": false
    }
   },
   "outputs": [],
   "source": [
    "import pandas as pd\n",
    "import matplotlib.pyplot as plt\n",
    "import matplotlib.ticker as ticker"
   ]
  },
  {
   "cell_type": "code",
   "execution_count": 67,
   "id": "c3c0afb6f55e2ecc",
   "metadata": {
    "ExecuteTime": {
     "end_time": "2025-03-05T21:00:28.313529Z",
     "start_time": "2025-03-05T21:00:28.311279Z"
    },
    "collapsed": false,
    "jupyter": {
     "outputs_hidden": false
    }
   },
   "outputs": [],
   "source": [
    "## Some auxiliary functions\n",
    "\n",
    "def time_to_seconds(time_str):\n",
    "    time_str = time_str.strip()\n",
    "    try:\n",
    "        if 'm' in time_str:\n",
    "            parts = time_str.split('m')\n",
    "            minutes = float(parts[0])\n",
    "            seconds = 0\n",
    "            if len(parts) > 1 and parts[1]:\n",
    "                seconds = float(parts[1].replace('s', ''))\n",
    "            return minutes * 60 + seconds\n",
    "        else:\n",
    "            return float(time_str.replace('s', ''))\n",
    "    except Exception as e:\n",
    "        print(f\"Error parsing time: {time_str}\")\n",
    "        print(f\"Error details: {e}\")\n",
    "        return None"
   ]
  },
  {
   "cell_type": "markdown",
   "id": "91087f52a808a064",
   "metadata": {
    "collapsed": false,
    "jupyter": {
     "outputs_hidden": false
    }
   },
   "source": [
    "## Fibonacci Benchmarks\n",
    "\n",
    "In this section we will analyze the performance of Fibonacci for different provers.\n",
    "\n",
    "The data was collected on a server with the following specs:\n",
    "- CPU: AMD EPYC 8534P 64-Core Processor\n",
    "- RAM: 576GB\n",
    "- OS: Ubuntu 24 LTS\n",
    "\n",
    "Data loaded from: `bench_results/fibo_5_mar_25_epyc8534p_64c_576gb.csv`"
   ]
  },
  {
   "cell_type": "markdown",
   "id": "ab88fbaa9c2d3c18",
   "metadata": {
    "collapsed": false,
    "jupyter": {
     "outputs_hidden": false
    }
   },
   "source": [
    "### Load the data"
   ]
  },
  {
   "cell_type": "code",
   "execution_count": 68,
   "id": "c5b77fa961672aa1",
   "metadata": {
    "ExecuteTime": {
     "end_time": "2025-03-05T21:00:28.323590Z",
     "start_time": "2025-03-05T21:00:28.314422Z"
    }
   },
   "outputs": [],
   "source": [
    "input_csv_path = 'bench_results/fibo_5_mar_25_epyc8534p_64c_576gb.csv'\n",
    "\n",
    "# Read data from CSV\n",
    "df = pd.read_csv(input_csv_path)\n",
    "df['N'] = df['N'].astype(int)\n",
    "\n",
    "for idx, row in df.iterrows():\n",
    "    seconds = time_to_seconds(row['Time'])\n",
    "\n",
    "df['Seconds'] = df['Time'].apply(time_to_seconds)\n",
    "df['Minutes'] = df['Seconds'] / 60"
   ]
  },
  {
   "cell_type": "markdown",
   "id": "373bdbdf02b5a2f7",
   "metadata": {
    "collapsed": false,
    "jupyter": {
     "outputs_hidden": false
    }
   },
   "source": [
    "### Print the data sorted by Prover and N\n",
    "\n",
    "For validation purposes, we will print the data sorted by Prover and N."
   ]
  },
  {
   "cell_type": "code",
   "execution_count": 69,
   "id": "f6b97d5055f4f86f",
   "metadata": {
    "ExecuteTime": {
     "end_time": "2025-03-05T21:00:28.351119Z",
     "start_time": "2025-03-05T21:00:28.324118Z"
    },
    "jupyter": {
     "source_hidden": true
    }
   },
   "outputs": [
    {
     "name": "stdout",
     "output_type": "stream",
     "text": [
      "\n",
      "Data sorted by Prover and N for validation:\n",
      "                Prover        N     Time  Minutes\n",
      "0          Pico-AVX512    10000    22.9s     0.38\n",
      "4          Pico-AVX512   100000    35.5s     0.59\n",
      "8          Pico-AVX512  1000000  1m46.0s     1.77\n",
      "12         Pico-AVX512  4000000  5m18.6s     5.31\n",
      "3                Risc0    10000    10.8s     0.18\n",
      "7                Risc0   100000    50.9s     0.85\n",
      "11               Risc0  1000000  7m53.1s     7.89\n",
      "15               Risc0  4000000  31m2.0s    31.03\n",
      "1           SP1-AVX512    10000    16.0s     0.27\n",
      "5           SP1-AVX512   100000    34.0s     0.57\n",
      "9           SP1-AVX512  1000000  1m42.8s     1.71\n",
      "13          SP1-AVX512  4000000  5m21.2s     5.35\n",
      "2   SP1-AVX512-Groth16    10000  1m18.5s     1.31\n",
      "6   SP1-AVX512-Groth16   100000  1m36.4s     1.61\n",
      "10  SP1-AVX512-Groth16  1000000  2m45.8s     2.76\n",
      "14  SP1-AVX512-Groth16  4000000  6m29.4s     6.49\n"
     ]
    }
   ],
   "source": [
    "# Print sorted data for validation\n",
    "print(\"\\nData sorted by Prover and N for validation:\")\n",
    "pd.set_option('display.float_format', '{:.2f}'.format)\n",
    "validation_df = df.sort_values(['Prover', 'N'])[['Prover', 'N', 'Time', 'Minutes']]\n",
    "print(validation_df.to_string())"
   ]
  },
  {
   "cell_type": "markdown",
   "id": "1f16c0b792bb5f41",
   "metadata": {
    "collapsed": false,
    "jupyter": {
     "outputs_hidden": false
    }
   },
   "source": [
    "### Data analytics"
   ]
  },
  {
   "cell_type": "markdown",
   "id": "919e0186-1fa0-4326-94a9-0d9c9055fd3b",
   "metadata": {},
   "source": [
    "#### Plot: Log N vs Log Time"
   ]
  },
  {
   "cell_type": "code",
   "execution_count": 70,
   "id": "3128d32d46f96b81",
   "metadata": {
    "ExecuteTime": {
     "end_time": "2025-03-05T21:00:28.581268Z",
     "start_time": "2025-03-05T21:00:28.338527Z"
    }
   },
   "outputs": [
    {
     "data": {
      "image/png": "[encoded data removed]",
      "text/plain": [
       "<Figure size 1000x600 with 1 Axes>"
      ]
     },
     "metadata": {},
     "output_type": "display_data"
    }
   ],
   "source": [
    "# Plot the data\n",
    "\n",
    "# Set dark mode style\n",
    "plt.style.use('dark_background')\n",
    "colors = ['#1f77b4', '#ff7f0e', '#2ca02c', '#d62728', '#9467bd',\n",
    "          '#8c564b', '#e377c2', '#7f7f7f', '#bcbd22', '#17becf']\n",
    "\n",
    "# Create single figure with dark background\n",
    "plt.figure(figsize=(10, 6), facecolor='#1a1a1a')\n",
    "ax = plt.gca()\n",
    "ax.set_facecolor('#1a1a1a')\n",
    "\n",
    "# Function to plot data\n",
    "def plot_data(ax, data):\n",
    "    for i, prover in enumerate(data['Prover'].unique()):\n",
    "        prover_data = data[data['Prover'] == prover].sort_values('N')\n",
    "        # print(f\"\\nPlotting data for {prover}:\")\n",
    "        # print(prover_data[['N', 'Minutes']].to_string())\n",
    "\n",
    "        ax.loglog(prover_data['N'], prover_data['Minutes'], 'o-',\n",
    "                 label=prover, linewidth=2, markersize=8,\n",
    "                 color=colors[i % len(colors)])\n",
    "\n",
    "# Plot log-log scale\n",
    "plot_data(ax, df)\n",
    "ax.set_xlabel(\"Fibonacci N\", color='white')\n",
    "ax.set_ylabel('Time (minutes)', color='white')\n",
    "ax.set_title(f'Fibonacci Performance Comparison (Log-Log Scale)', color='white')\n",
    "ax.grid(True, alpha=0.2, color='gray')\n",
    "ax.legend(bbox_to_anchor=(1.02, 1), loc='upper left',\n",
    "          frameon=True, facecolor='#2d2d2d', edgecolor='white',\n",
    "          labelcolor='white')\n",
    "\n",
    "# Set tick colors\n",
    "ax.tick_params(axis='x', colors='white')\n",
    "ax.tick_params(axis='y', colors='white')\n",
    "\n",
    "# Format x-axis to show numbers in millions/thousands\n",
    "def format_func(x, p):\n",
    "    if x >= 1_000_000:\n",
    "        millions = x / 1_000_000\n",
    "        if millions.is_integer():\n",
    "            return f'{int(millions)}M'\n",
    "        else:\n",
    "            return f'{millions:.1f}M'\n",
    "    elif x >= 1_000:\n",
    "        return f'{int(x/1_000)}K'\n",
    "    return str(int(x))\n",
    "ax.xaxis.set_major_formatter(ticker.FuncFormatter(format_func))\n",
    "\n",
    "plt.tight_layout()\n",
    "\n",
    "plt.show()"
   ]
  },
  {
   "cell_type": "markdown",
   "id": "e28f4ac4-647d-4510-9d2c-5d21e987c34a",
   "metadata": {},
   "source": [
    "#### Time used at biggest sample taken"
   ]
  },
  {
   "cell_type": "code",
   "execution_count": 71,
   "id": "d1482f59-72ca-47a8-ad66-f40ae1c00af3",
   "metadata": {
    "scrolled": true
   },
   "outputs": [
    {
     "name": "stdout",
     "output_type": "stream",
     "text": [
      "\n",
      "Time used on biggest sample taken:\n",
      "\n"
     ]
    },
    {
     "data": {
      "text/html": [
       "<div>\n",
       "<style scoped>\n",
       "    .dataframe tbody tr th:only-of-type {\n",
       "        vertical-align: middle;\n",
       "    }\n",
       "\n",
       "    .dataframe tbody tr th {\n",
       "        vertical-align: top;\n",
       "    }\n",
       "\n",
       "    .dataframe thead th {\n",
       "        text-align: right;\n",
       "    }\n",
       "</style>\n",
       "<table border=\"1\" class=\"dataframe\">\n",
       "  <thead>\n",
       "    <tr style=\"text-align: right;\">\n",
       "      <th></th>\n",
       "      <th>Prover</th>\n",
       "      <th>N</th>\n",
       "      <th>Time</th>\n",
       "    </tr>\n",
       "  </thead>\n",
       "  <tbody>\n",
       "    <tr>\n",
       "      <th>12</th>\n",
       "      <td>Pico-AVX512</td>\n",
       "      <td>4000000</td>\n",
       "      <td>5m18.6s</td>\n",
       "    </tr>\n",
       "    <tr>\n",
       "      <th>13</th>\n",
       "      <td>SP1-AVX512</td>\n",
       "      <td>4000000</td>\n",
       "      <td>5m21.2s</td>\n",
       "    </tr>\n",
       "    <tr>\n",
       "      <th>14</th>\n",
       "      <td>SP1-AVX512-Groth16</td>\n",
       "      <td>4000000</td>\n",
       "      <td>6m29.4s</td>\n",
       "    </tr>\n",
       "    <tr>\n",
       "      <th>15</th>\n",
       "      <td>Risc0</td>\n",
       "      <td>4000000</td>\n",
       "      <td>31m2.0s</td>\n",
       "    </tr>\n",
       "  </tbody>\n",
       "</table>\n",
       "</div>"
      ],
      "text/plain": [
       "                Prover        N     Time\n",
       "12         Pico-AVX512  4000000  5m18.6s\n",
       "13          SP1-AVX512  4000000  5m21.2s\n",
       "14  SP1-AVX512-Groth16  4000000  6m29.4s\n",
       "15               Risc0  4000000  31m2.0s"
      ]
     },
     "metadata": {},
     "output_type": "display_data"
    }
   ],
   "source": [
    "# Dynamically find the maximum N value\n",
    "max_n = df['N'].max()\n",
    "\n",
    "# Filter for the maximum N\n",
    "max_n_rows = df[df['N'] == max_n]\n",
    "\n",
    "print(\"\\nTime used on biggest sample taken:\\n\")\n",
    "display( max_n_rows[['Prover','N', 'Time']])\n"
   ]
  },
  {
   "cell_type": "markdown",
   "id": "ff595b92eac77896",
   "metadata": {
    "collapsed": false,
    "jupyter": {
     "outputs_hidden": false
    }
   },
   "source": [
    "## Keccack Benchmarks\n",
    "\n",
    "In this section we will analyze the performance of Keccak for different provers.\n",
    "\n",
    "The data was collected on a server with the following specs:\n",
    "- CPU: AMD EPYC 8534P 64-Core Processor\n",
    "- RAM: 576GB\n",
    "- OS: Ubuntu 24 LTS\n",
    "\n",
    "Data loaded from: `bench_results/keccak_5_mar_25_epyc8534p_64c_576gb.csv`"
   ]
  },
  {
   "cell_type": "markdown",
   "id": "2445084ca05e1b2c",
   "metadata": {
    "collapsed": false,
    "jupyter": {
     "outputs_hidden": false
    }
   },
   "source": [
    "### Load the data"
   ]
  },
  {
   "cell_type": "code",
   "execution_count": 72,
   "id": "d233c7e6bd0ba5d2",
   "metadata": {
    "ExecuteTime": {
     "end_time": "2025-03-05T21:00:28.586622Z",
     "start_time": "2025-03-05T21:00:28.582345Z"
    },
    "collapsed": false,
    "jupyter": {
     "outputs_hidden": false
    }
   },
   "outputs": [],
   "source": [
    "input_csv_path = 'bench_results/keccak_5_mar_25_epyc8534p_64c_576gb.csv'\n",
    "\n",
    "# Read data from CSV\n",
    "df = pd.read_csv(input_csv_path)\n",
    "df['N'] = df['N'].astype(int)\n",
    "\n",
    "for idx, row in df.iterrows():\n",
    "    seconds = time_to_seconds(row['Time'])\n",
    "\n",
    "df['Seconds'] = df['Time'].apply(time_to_seconds)\n",
    "df['Minutes'] = df['Seconds'] / 60"
   ]
  },
  {
   "cell_type": "markdown",
   "id": "9c89656ca0ebc2a2",
   "metadata": {
    "collapsed": false,
    "jupyter": {
     "outputs_hidden": false
    }
   },
   "source": [
    "### Print the data sorted by Prover and N\n",
    "\n",
    "For validation purposes, we will print the data sorted by Prover and N."
   ]
  },
  {
   "cell_type": "code",
   "execution_count": 73,
   "id": "7e5b67a50333a913",
   "metadata": {
    "ExecuteTime": {
     "end_time": "2025-03-05T21:00:28.592552Z",
     "start_time": "2025-03-05T21:00:28.589106Z"
    },
    "jupyter": {
     "source_hidden": true
    }
   },
   "outputs": [
    {
     "name": "stdout",
     "output_type": "stream",
     "text": [
      "\n",
      "Data sorted by Prover and N for validation:\n",
      "                Prover         N      Time  Minutes\n",
      "0          Pico-AVX512       100     28.8s     0.48\n",
      "3          Pico-AVX512      1000     28.8s     0.48\n",
      "6          Pico-AVX512     10000     29.8s     0.50\n",
      "9          Pico-AVX512    100000     39.4s     0.66\n",
      "12         Pico-AVX512   1000000   1m46.8s     1.78\n",
      "15         Pico-AVX512  10000000  12m27.4s    12.46\n",
      "18               Risc0       100     34.4s     0.57\n",
      "19               Risc0      1000     37.1s     0.62\n",
      "20               Risc0     10000    1m8.9s     1.15\n",
      "21               Risc0    100000   6m19.7s     6.33\n",
      "1           SP1-AVX512       100     53.5s     0.89\n",
      "4           SP1-AVX512      1000     53.5s     0.89\n",
      "7           SP1-AVX512     10000     53.3s     0.89\n",
      "10          SP1-AVX512    100000    1m2.8s     1.05\n",
      "13          SP1-AVX512   1000000   2m22.6s     2.38\n",
      "16          SP1-AVX512  10000000  19m51.6s    19.86\n",
      "2   SP1-AVX512-Groth16       100   1m56.0s     1.93\n",
      "5   SP1-AVX512-Groth16      1000   1m56.0s     1.93\n",
      "8   SP1-AVX512-Groth16     10000   1m56.0s     1.93\n",
      "11  SP1-AVX512-Groth16    100000    2m5.9s     2.10\n",
      "14  SP1-AVX512-Groth16   1000000   3m25.3s     3.42\n",
      "17  SP1-AVX512-Groth16  10000000   21m3.5s    21.06\n"
     ]
    }
   ],
   "source": [
    "# Print sorted data for validation\n",
    "print(\"\\nData sorted by Prover and N for validation:\")\n",
    "pd.set_option('display.float_format', '{:.2f}'.format)\n",
    "validation_df = df.sort_values(['Prover', 'N'])[['Prover', 'N', 'Time', 'Minutes']]\n",
    "print(validation_df.to_string())"
   ]
  },
  {
   "cell_type": "markdown",
   "id": "50373717f9cde024",
   "metadata": {
    "collapsed": false,
    "jupyter": {
     "outputs_hidden": false
    }
   },
   "source": [
    "### Data analytics"
   ]
  },
  {
   "cell_type": "markdown",
   "id": "8c74065d-e137-4b31-8db8-9512d40625f8",
   "metadata": {},
   "source": [
    "#### Plot: Log N vs Log Time"
   ]
  },
  {
   "cell_type": "code",
   "execution_count": 74,
   "id": "41539b75707c96d8",
   "metadata": {
    "ExecuteTime": {
     "end_time": "2025-03-05T21:00:28.778110Z",
     "start_time": "2025-03-05T21:00:28.632964Z"
    }
   },
   "outputs": [
    {
     "data": {
      "image/png": "[encoded data removed]",
      "text/plain": [
       "<Figure size 1000x600 with 1 Axes>"
      ]
     },
     "metadata": {},
     "output_type": "display_data"
    }
   ],
   "source": [
    "#Plot the data\n",
    "\n",
    "# Set dark mode style\n",
    "plt.style.use('dark_background')\n",
    "colors = ['#1f77b4', '#ff7f0e', '#2ca02c', '#d62728', '#9467bd',\n",
    "          '#8c564b', '#e377c2', '#7f7f7f', '#bcbd22', '#17becf']\n",
    "\n",
    "# Create single figure with dark background\n",
    "plt.figure(figsize=(10, 6), facecolor='#1a1a1a')\n",
    "ax = plt.gca()\n",
    "ax.set_facecolor('#1a1a1a')\n",
    "\n",
    "\n",
    "# Function to plot data\n",
    "def plot_data(ax, data):\n",
    "    for i, prover in enumerate(data['Prover'].unique()):\n",
    "        prover_data = data[data['Prover'] == prover].sort_values('N')\n",
    "        # print(f\"\\nPlotting data for {prover}:\")\n",
    "        # print(prover_data[['N', 'Minutes']].to_string())\n",
    "\n",
    "        ax.loglog(prover_data['N'], prover_data['Minutes'], 'o-',\n",
    "                 label=prover, linewidth=2, markersize=8,\n",
    "                 color=colors[i % len(colors)])\n",
    "\n",
    "# Plot log-log scale\n",
    "plot_data(ax, df)\n",
    "ax.set_xlabel('Vec of Length N Bytes', color='white')\n",
    "ax.set_ylabel('Time (minutes)', color='white')\n",
    "ax.set_title(f'Keccak Performance Comparison (Log-Log Scale)', color='white')\n",
    "ax.grid(True, alpha=0.2, color='gray')\n",
    "ax.legend(bbox_to_anchor=(1.02, 1), loc='upper left',\n",
    "          frameon=True, facecolor='#2d2d2d', edgecolor='white',\n",
    "          labelcolor='white')\n",
    "\n",
    "# Set tick colors\n",
    "ax.tick_params(axis='x', colors='white')\n",
    "ax.tick_params(axis='y', colors='white')\n",
    "\n",
    "# Format x-axis to show numbers in millions/thousands\n",
    "def format_func(x, p):\n",
    "    if x >= 1_000_000:\n",
    "        millions = x / 1_000_000\n",
    "        if millions.is_integer():\n",
    "            return f'{int(millions)}M'\n",
    "        else:\n",
    "            return f'{millions:.1f}M'\n",
    "    elif x >= 1_000:\n",
    "        return f'{int(x/1_000)}K'\n",
    "    return str(int(x))\n",
    "ax.xaxis.set_major_formatter(ticker.FuncFormatter(format_func))\n",
    "\n",
    "plt.tight_layout()\n",
    "\n",
    "plt.show()"
   ]
  },
  {
   "cell_type": "markdown",
   "id": "bf7cd278-8891-4b91-836d-9f8a4c6b4f57",
   "metadata": {},
   "source": [
    "#### KiB hased per second at max sample"
   ]
  },
  {
   "cell_type": "code",
   "execution_count": 75,
   "id": "cecefb35-d354-45f6-ad51-28d166ad1abd",
   "metadata": {
    "ExecuteTime": {
     "end_time": "2025-03-05T21:00:28.785292Z",
     "start_time": "2025-03-05T21:00:28.775795Z"
    }
   },
   "outputs": [
    {
     "name": "stdout",
     "output_type": "stream",
     "text": [
      "\n",
      "Keccak Performance (using highest N value for each prover)\n",
      "\n"
     ]
    },
    {
     "data": {
      "text/html": [
       "<div>\n",
       "<style scoped>\n",
       "    .dataframe tbody tr th:only-of-type {\n",
       "        vertical-align: middle;\n",
       "    }\n",
       "\n",
       "    .dataframe tbody tr th {\n",
       "        vertical-align: top;\n",
       "    }\n",
       "\n",
       "    .dataframe thead th {\n",
       "        text-align: right;\n",
       "    }\n",
       "</style>\n",
       "<table border=\"1\" class=\"dataframe\">\n",
       "  <thead>\n",
       "    <tr style=\"text-align: right;\">\n",
       "      <th></th>\n",
       "      <th>Prover</th>\n",
       "      <th>KiB/sec</th>\n",
       "    </tr>\n",
       "  </thead>\n",
       "  <tbody>\n",
       "    <tr>\n",
       "      <th>0</th>\n",
       "      <td>Pico-AVX512</td>\n",
       "      <td>13.07</td>\n",
       "    </tr>\n",
       "    <tr>\n",
       "      <th>1</th>\n",
       "      <td>SP1-AVX512</td>\n",
       "      <td>8.20</td>\n",
       "    </tr>\n",
       "    <tr>\n",
       "      <th>2</th>\n",
       "      <td>SP1-AVX512-Groth16</td>\n",
       "      <td>7.73</td>\n",
       "    </tr>\n",
       "    <tr>\n",
       "      <th>3</th>\n",
       "      <td>Risc0</td>\n",
       "      <td>0.26</td>\n",
       "    </tr>\n",
       "  </tbody>\n",
       "</table>\n",
       "</div>"
      ],
      "text/plain": [
       "               Prover  KiB/sec\n",
       "0         Pico-AVX512    13.07\n",
       "1          SP1-AVX512     8.20\n",
       "2  SP1-AVX512-Groth16     7.73\n",
       "3               Risc0     0.26"
      ]
     },
     "metadata": {},
     "output_type": "display_data"
    }
   ],
   "source": [
    "# Calculate Keccaks per second for highest N value of each prover\n",
    "kps_data = []\n",
    "for prover in df['Prover'].unique():\n",
    "    prover_data = df[df['Prover'] == prover]\n",
    "    max_n_row = prover_data.loc[prover_data['N'].idxmax()]\n",
    "    \n",
    "    # Each N represents one Keccak hash\n",
    "    keccaks_per_second = max_n_row['N'] / max_n_row['Seconds'] / 1024\n",
    "    \n",
    "    kps_data.append({\n",
    "        'Prover': prover,\n",
    "        'KiB/sec': keccaks_per_second\n",
    "    })\n",
    "\n",
    "# Create DataFrame and sort by performance\n",
    "kps_df = pd.DataFrame(kps_data)\n",
    "kps_df = kps_df.sort_values('KiB/sec', ascending=False)\n",
    "\n",
    "# Display results as a table\n",
    "print(\"\\nKiB hased per second at max sample\\n\")\n",
    "pd.set_option('display.float_format', '{:.2f}'.format)\n",
    "\n",
    "# Optionally, you can use the following line to display it as a table in Jupyter Notebook\n",
    "display(kps_df)"
   ]
  },
  {
   "cell_type": "markdown",
   "id": "0471fdb7-a436-4683-85e2-0737f09a4720",
   "metadata": {},
   "source": [
    "#### Time used at 10K bytes and 1M bytes"
   ]
  },
  {
   "cell_type": "code",
   "execution_count": 76,
   "id": "a2882342-08e5-4a26-8ff7-54dfd91049df",
   "metadata": {},
   "outputs": [
    {
     "name": "stdout",
     "output_type": "stream",
     "text": [
      "\n",
      "\n",
      "\n"
     ]
    },
    {
     "data": {
      "text/html": [
       "<div>\n",
       "<style scoped>\n",
       "    .dataframe tbody tr th:only-of-type {\n",
       "        vertical-align: middle;\n",
       "    }\n",
       "\n",
       "    .dataframe tbody tr th {\n",
       "        vertical-align: top;\n",
       "    }\n",
       "\n",
       "    .dataframe thead th {\n",
       "        text-align: right;\n",
       "    }\n",
       "</style>\n",
       "<table border=\"1\" class=\"dataframe\">\n",
       "  <thead>\n",
       "    <tr style=\"text-align: right;\">\n",
       "      <th></th>\n",
       "      <th>Prover</th>\n",
       "      <th>Bytes (Millions)</th>\n",
       "      <th>Time</th>\n",
       "    </tr>\n",
       "  </thead>\n",
       "  <tbody>\n",
       "    <tr>\n",
       "      <th>9</th>\n",
       "      <td>Pico-AVX512</td>\n",
       "      <td>0.10</td>\n",
       "      <td>39.4s</td>\n",
       "    </tr>\n",
       "    <tr>\n",
       "      <th>10</th>\n",
       "      <td>SP1-AVX512</td>\n",
       "      <td>0.10</td>\n",
       "      <td>1m2.8s</td>\n",
       "    </tr>\n",
       "    <tr>\n",
       "      <th>11</th>\n",
       "      <td>SP1-AVX512-Groth16</td>\n",
       "      <td>0.10</td>\n",
       "      <td>2m5.9s</td>\n",
       "    </tr>\n",
       "    <tr>\n",
       "      <th>21</th>\n",
       "      <td>Risc0</td>\n",
       "      <td>0.10</td>\n",
       "      <td>6m19.7s</td>\n",
       "    </tr>\n",
       "  </tbody>\n",
       "</table>\n",
       "</div>"
      ],
      "text/plain": [
       "                Prover  Bytes (Millions)     Time\n",
       "9          Pico-AVX512              0.10    39.4s\n",
       "10          SP1-AVX512              0.10   1m2.8s\n",
       "11  SP1-AVX512-Groth16              0.10   2m5.9s\n",
       "21               Risc0              0.10  6m19.7s"
      ]
     },
     "metadata": {},
     "output_type": "display_data"
    },
    {
     "data": {
      "text/html": [
       "<div>\n",
       "<style scoped>\n",
       "    .dataframe tbody tr th:only-of-type {\n",
       "        vertical-align: middle;\n",
       "    }\n",
       "\n",
       "    .dataframe tbody tr th {\n",
       "        vertical-align: top;\n",
       "    }\n",
       "\n",
       "    .dataframe thead th {\n",
       "        text-align: right;\n",
       "    }\n",
       "</style>\n",
       "<table border=\"1\" class=\"dataframe\">\n",
       "  <thead>\n",
       "    <tr style=\"text-align: right;\">\n",
       "      <th></th>\n",
       "      <th>Prover</th>\n",
       "      <th>Bytes (Millions)</th>\n",
       "      <th>Time</th>\n",
       "    </tr>\n",
       "  </thead>\n",
       "  <tbody>\n",
       "    <tr>\n",
       "      <th>15</th>\n",
       "      <td>Pico-AVX512</td>\n",
       "      <td>10</td>\n",
       "      <td>12m27.4s</td>\n",
       "    </tr>\n",
       "    <tr>\n",
       "      <th>16</th>\n",
       "      <td>SP1-AVX512</td>\n",
       "      <td>10</td>\n",
       "      <td>19m51.6s</td>\n",
       "    </tr>\n",
       "    <tr>\n",
       "      <th>17</th>\n",
       "      <td>SP1-AVX512-Groth16</td>\n",
       "      <td>10</td>\n",
       "      <td>21m3.5s</td>\n",
       "    </tr>\n",
       "  </tbody>\n",
       "</table>\n",
       "</div>"
      ],
      "text/plain": [
       "                Prover  Bytes (Millions)      Time\n",
       "15         Pico-AVX512                10  12m27.4s\n",
       "16          SP1-AVX512                10  19m51.6s\n",
       "17  SP1-AVX512-Groth16                10   21m3.5s"
      ]
     },
     "metadata": {},
     "output_type": "display_data"
    }
   ],
   "source": [
    "print(\"\\n\\n\")\n",
    "\n",
    "n0 = 100000\n",
    "n1 = 10000000\n",
    "\n",
    "# Filter for n0\n",
    "n0_rows = df[df['N'] == n0]\n",
    "n0_display = n0_rows[['Prover', 'N', 'Time']].copy()\n",
    "n0_display['N'] = (n0_display['N'] / 1000000)  # Truncates, but no decimals here anyway\n",
    "\n",
    "display(n0_display.rename(columns={'N': 'Bytes (Millions)'}))\n",
    "\n",
    "# Filter for n1\n",
    "n1_rows = df[df['N'] == n1]\n",
    "n1_display = n1_rows[['Prover', 'N', 'Time']].copy()\n",
    "n1_display['N'] = (n1_display['N'] / 1000000).astype(int)  # Truncates, but no decimals here anyway\n",
    "\n",
    "display(n1_display.rename(columns={'N': 'Bytes (Millions)'}))"
   ]
  }
 ],
 "metadata": {
  "kernelspec": {
   "display_name": "Python 3 (ipykernel)",
   "language": "python",
   "name": "python3"
  },
  "language_info": {
   "codemirror_mode": {
    "name": "ipython",
    "version": 3
   },
   "file_extension": ".py",
   "mimetype": "text/x-python",
   "name": "python",
   "nbconvert_exporter": "python",
   "pygments_lexer": "ipython3",
   "version": "3.12.9"
  }
 },
 "nbformat": 4,
 "nbformat_minor": 5
}
